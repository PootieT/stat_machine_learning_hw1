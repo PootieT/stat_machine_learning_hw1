{
 "metadata": {
  "name": "",
  "signature": "sha256:80af6e39438b643598a7b2ac00362551baa775bb72d99985de7269ff84f910b7"
 },
 "nbformat": 3,
 "nbformat_minor": 0,
 "worksheets": [
  {
   "cells": [
    {
     "cell_type": "markdown",
     "metadata": {},
     "source": [
      "## Extra Credit: Building regularized models for Boston data set\n",
      "Perform a bias variance analysis of the Boston housing data set with the thirteen predictors, following the steps on the simple data set above. Use sklearn's  built-in functions to split the data into training, validation and test sets. What is the lowest achievable error on the test set with $\\lambda = 0$? Select the best value for $\\lambda$ and report the test set error with the best $\\lambda$. Use the technique of adding features to extend each column of the Boston data set with powers of the values in the column. Repeat the bias-variance analysis with quadratic and cubic features. What is the test set error with quadratic features with the best $\\lambda$ chosen with the validation set? What is the test set error with cubic features with the best $\\lambda$ chosen with the validation set? Put your analysis code in a separate Python script or notebook called bostonexpt.py or bostonexpt.ipynb. Present your results analytically with plots to support your findings. Discuss the impact of regularization for building good models for the Boston housing data set."
     ]
    },
    {
     "cell_type": "code",
     "collapsed": false,
     "input": [
      "from sklearn.datasets import load_boston\n",
      "import numpy as np\n",
      "import pandas as pd\n",
      "import matplotlib.pyplot as plt\n",
      "import plot_utils, utils\n",
      "from reg_linear_regressor_multi import RegularizedLinearReg_SquaredLoss\n",
      "from sklearn.model_selection import train_test_split\n",
      "# This is a bit of magic to make matplotlib figures appear inline in the notebook\n",
      "# rather than in a new window.\n",
      "\n",
      "%matplotlib inline\n",
      "plt.rcParams['figure.figsize'] = (10.0, 8.0) # set default size of plots\n",
      "plt.rcParams['image.interpolation'] = 'nearest'\n",
      "plt.rcParams['image.cmap'] = 'gray'\n",
      "\n",
      "# Some more magic so that the notebook will reload external python modules;\n",
      "# see http://stackoverflow.com/questions/1907993/autoreload-of-modules-in-ipython\n",
      "\n",
      "%load_ext autoreload\n",
      "%autoreload 2\n",
      "\n",
      "print 'Reading data ...'\n",
      "bdata = load_boston()\n",
      "df = pd.DataFrame(data = bdata.data, columns = bdata.feature_names)\n",
      "X = df.values\n",
      "y = bdata.target\n",
      "\n",
      "X_norm,mu,sigma = utils.feature_normalize(X)\n",
      "X_norm = np.vstack([np.ones((X.shape[0],)),X_norm.T]).T\n",
      "\n",
      "X_train, X_test, y_train, y_test = train_test_split(X_norm, y, test_size=0.4, random_state=42)\n",
      "X_val, X_test, y_val, y_test = train_test_split(X_test, y_test, test_size=0.25, random_state=42)\n",
      "\n"
     ],
     "language": "python",
     "metadata": {},
     "outputs": [
      {
       "output_type": "stream",
       "stream": "stdout",
       "text": [
        "Reading data ...\n"
       ]
      }
     ],
     "prompt_number": 1
    },
    {
     "cell_type": "code",
     "collapsed": false,
     "input": [
      "# for linear with lambda 0, error is\n",
      "reglinear_reg1 = RegularizedLinearReg_SquaredLoss()\n",
      "theta_opt0 = reglinear_reg1.train(X_train,y_train,reg=0.0,num_iters=1000)\n",
      "lambda0_lin = reglinear_reg1.loss(theta_opt0,X_test,y_test,0.0)\n",
      "print lambda0_lin\n",
      "\n",
      "reg_vec, error_train, error_val = utils.validation_curve(X_train,y_train,X_val,y_val)\n",
      "plot_utils.plot_lambda_selection(reg_vec,error_train,error_val)\n",
      "plt.show()"
     ],
     "language": "python",
     "metadata": {},
     "outputs": [
      {
       "output_type": "stream",
       "stream": "stdout",
       "text": [
        "Optimization terminated successfully.\n",
        "         Current function value: 11.277379\n",
        "         Iterations: 24\n",
        "         Function evaluations: 25\n",
        "         Gradient evaluations: 25\n",
        "17.74909912352168\n",
        "Optimization terminated successfully.\n",
        "         Current function value: 11.277379\n",
        "         Iterations: 24\n",
        "         Function evaluations: 25\n",
        "         Gradient evaluations: 25\n",
        "Optimization terminated successfully.\n",
        "         Current function value: 11.278299\n",
        "         Iterations: 24\n",
        "         Function evaluations: 25\n",
        "         Gradient evaluations: 25\n",
        "Optimization terminated successfully.\n",
        "         Current function value: 11.280139\n",
        "         Iterations: 24\n",
        "         Function evaluations: 25\n",
        "         Gradient evaluations: 25\n",
        "Optimization terminated successfully.\n",
        "         Current function value: 11.286579\n",
        "         Iterations: 24\n",
        "         Function evaluations: 25\n",
        "         Gradient evaluations: 25\n",
        "Optimization terminated successfully.\n",
        "         Current function value: 11.304979\n",
        "         Iterations: 24\n",
        "         Function evaluations: 25\n",
        "         Gradient evaluations: 25\n",
        "Optimization terminated successfully.\n",
        "         Current function value: 11.369371\n",
        "         Iterations: 24\n",
        "         Function evaluations: 25\n",
        "         Gradient evaluations: 25\n",
        "Optimization terminated successfully.\n",
        "         Current function value: 11.553291\n",
        "         Iterations: 24\n",
        "         Function evaluations: 25\n",
        "         Gradient evaluations: 25\n",
        "Warning: Desired error not necessarily achieved due to precision loss."
       ]
      },
      {
       "output_type": "stream",
       "stream": "stdout",
       "text": [
        "\n",
        "         Current function value: 12.197399\n",
        "         Iterations: 17\n",
        "         Function evaluations: 104\n",
        "         Gradient evaluations: 92\n",
        "Warning: Desired error not necessarily achieved due to precision loss.\n",
        "         Current function value: 14.037290\n",
        "         Iterations: 18\n",
        "         Function evaluations: 122\n",
        "         Gradient evaluations: 110\n",
        "Warning: Desired error not necessarily achieved due to precision loss.\n",
        "         Current function value: 20.445435\n",
        "         Iterations: 11\n",
        "         Function evaluations: 80\n",
        "         Gradient evaluations: 68\n"
       ]
      },
      {
       "metadata": {},
       "output_type": "display_data",
       "png": "[encoded data removed]",
       "text": [
        "<matplotlib.figure.Figure at 0x7fb68d70ebd0>"
       ]
      }
     ],
     "prompt_number": 5
    },
    {
     "cell_type": "code",
     "collapsed": false,
     "input": [
      "from utils import feature_normalize\n",
      "import sklearn\n",
      "from sklearn.preprocessing import PolynomialFeatures\n",
      "\n",
      "# Map X onto polynomial features and normalize\n",
      "# We will consider a 6th order polynomial fit for the data\n",
      "\n",
      "p = 2\n",
      "poly = sklearn.preprocessing.PolynomialFeatures(degree=p,include_bias=False)\n",
      "print np.shape(X)\n",
      "X_poly = poly.fit_transform(np.reshape(X.T,(len(X.T),1)))\n",
      "X_poly, mu, sigma = utils.feature_normalize(X_poly)\n",
      "\n",
      "# add a column of ones to X_poly\n",
      "\n",
      "XX_poly = np.vstack([np.ones((X_poly.shape[0],)),X_poly.T]).T\n",
      "\n",
      "# map Xtest and Xval into the same polynomial features\n",
      "\n",
      "X_poly_test = poly.fit_transform(np.reshape(Xtest,(len(Xtest),1)))\n",
      "X_poly_val = poly.fit_transform(np.reshape(Xval,(len(Xval),1)))\n",
      "\n",
      "# normalize these two sets with the same mu and sigma\n",
      "\n",
      "X_poly_test = (X_poly_test - mu) / sigma\n",
      "X_poly_val = (X_poly_val - mu) / sigma\n",
      "\n",
      "# add a column of ones to both X_poly_test and X_poly_val\n",
      "XX_poly_test = np.vstack([np.ones((X_poly_test.shape[0],)),X_poly_test.T]).T\n",
      "XX_poly_val = np.vstack([np.ones((X_poly_val.shape[0],)),X_poly_val.T]).T"
     ],
     "language": "python",
     "metadata": {},
     "outputs": [
      {
       "output_type": "stream",
       "stream": "stdout",
       "text": [
        "(506, 13)\n"
       ]
      },
      {
       "ename": "ValueError",
       "evalue": "cannot reshape array of size 6578 into shape (13,1)",
       "output_type": "pyerr",
       "traceback": [
        "\u001b[0;31m---------------------------------------------------------------------------\u001b[0m\n\u001b[0;31mValueError\u001b[0m                                Traceback (most recent call last)",
        "\u001b[0;32m<ipython-input-12-0c4acedac5d6>\u001b[0m in \u001b[0;36m<module>\u001b[0;34m()\u001b[0m\n\u001b[1;32m      9\u001b[0m \u001b[0mpoly\u001b[0m \u001b[0;34m=\u001b[0m \u001b[0msklearn\u001b[0m\u001b[0;34m.\u001b[0m\u001b[0mpreprocessing\u001b[0m\u001b[0;34m.\u001b[0m\u001b[0mPolynomialFeatures\u001b[0m\u001b[0;34m(\u001b[0m\u001b[0mdegree\u001b[0m\u001b[0;34m=\u001b[0m\u001b[0mp\u001b[0m\u001b[0;34m,\u001b[0m\u001b[0minclude_bias\u001b[0m\u001b[0;34m=\u001b[0m\u001b[0mFalse\u001b[0m\u001b[0;34m)\u001b[0m\u001b[0;34m\u001b[0m\u001b[0m\n\u001b[1;32m     10\u001b[0m \u001b[0;32mprint\u001b[0m \u001b[0mnp\u001b[0m\u001b[0;34m.\u001b[0m\u001b[0mshape\u001b[0m\u001b[0;34m(\u001b[0m\u001b[0mX\u001b[0m\u001b[0;34m)\u001b[0m\u001b[0;34m\u001b[0m\u001b[0m\n\u001b[0;32m---> 11\u001b[0;31m \u001b[0mX_poly\u001b[0m \u001b[0;34m=\u001b[0m \u001b[0mpoly\u001b[0m\u001b[0;34m.\u001b[0m\u001b[0mfit_transform\u001b[0m\u001b[0;34m(\u001b[0m\u001b[0mnp\u001b[0m\u001b[0;34m.\u001b[0m\u001b[0mreshape\u001b[0m\u001b[0;34m(\u001b[0m\u001b[0mX\u001b[0m\u001b[0;34m.\u001b[0m\u001b[0mT\u001b[0m\u001b[0;34m,\u001b[0m\u001b[0;34m(\u001b[0m\u001b[0mlen\u001b[0m\u001b[0;34m(\u001b[0m\u001b[0mX\u001b[0m\u001b[0;34m.\u001b[0m\u001b[0mT\u001b[0m\u001b[0;34m)\u001b[0m\u001b[0;34m,\u001b[0m\u001b[0;36m1\u001b[0m\u001b[0;34m)\u001b[0m\u001b[0;34m)\u001b[0m\u001b[0;34m)\u001b[0m\u001b[0;34m\u001b[0m\u001b[0m\n\u001b[0m\u001b[1;32m     12\u001b[0m \u001b[0mX_poly\u001b[0m\u001b[0;34m,\u001b[0m \u001b[0mmu\u001b[0m\u001b[0;34m,\u001b[0m \u001b[0msigma\u001b[0m \u001b[0;34m=\u001b[0m \u001b[0mutils\u001b[0m\u001b[0;34m.\u001b[0m\u001b[0mfeature_normalize\u001b[0m\u001b[0;34m(\u001b[0m\u001b[0mX_poly\u001b[0m\u001b[0;34m)\u001b[0m\u001b[0;34m\u001b[0m\u001b[0m\n\u001b[1;32m     13\u001b[0m \u001b[0;34m\u001b[0m\u001b[0m\n",
        "\u001b[0;32m/home/peter/.local/lib/python2.7/site-packages/numpy/core/fromnumeric.pyc\u001b[0m in \u001b[0;36mreshape\u001b[0;34m(a, newshape, order)\u001b[0m\n\u001b[1;32m    255\u001b[0m            [5, 6]])\n\u001b[1;32m    256\u001b[0m     \"\"\"\n\u001b[0;32m--> 257\u001b[0;31m     \u001b[0;32mreturn\u001b[0m \u001b[0m_wrapfunc\u001b[0m\u001b[0;34m(\u001b[0m\u001b[0ma\u001b[0m\u001b[0;34m,\u001b[0m \u001b[0;34m'reshape'\u001b[0m\u001b[0;34m,\u001b[0m \u001b[0mnewshape\u001b[0m\u001b[0;34m,\u001b[0m \u001b[0morder\u001b[0m\u001b[0;34m=\u001b[0m\u001b[0morder\u001b[0m\u001b[0;34m)\u001b[0m\u001b[0;34m\u001b[0m\u001b[0m\n\u001b[0m\u001b[1;32m    258\u001b[0m \u001b[0;34m\u001b[0m\u001b[0m\n\u001b[1;32m    259\u001b[0m \u001b[0;34m\u001b[0m\u001b[0m\n",
        "\u001b[0;32m/home/peter/.local/lib/python2.7/site-packages/numpy/core/fromnumeric.pyc\u001b[0m in \u001b[0;36m_wrapfunc\u001b[0;34m(obj, method, *args, **kwds)\u001b[0m\n\u001b[1;32m     50\u001b[0m \u001b[0;32mdef\u001b[0m \u001b[0m_wrapfunc\u001b[0m\u001b[0;34m(\u001b[0m\u001b[0mobj\u001b[0m\u001b[0;34m,\u001b[0m \u001b[0mmethod\u001b[0m\u001b[0;34m,\u001b[0m \u001b[0;34m*\u001b[0m\u001b[0margs\u001b[0m\u001b[0;34m,\u001b[0m \u001b[0;34m**\u001b[0m\u001b[0mkwds\u001b[0m\u001b[0;34m)\u001b[0m\u001b[0;34m:\u001b[0m\u001b[0;34m\u001b[0m\u001b[0m\n\u001b[1;32m     51\u001b[0m     \u001b[0;32mtry\u001b[0m\u001b[0;34m:\u001b[0m\u001b[0;34m\u001b[0m\u001b[0m\n\u001b[0;32m---> 52\u001b[0;31m         \u001b[0;32mreturn\u001b[0m \u001b[0mgetattr\u001b[0m\u001b[0;34m(\u001b[0m\u001b[0mobj\u001b[0m\u001b[0;34m,\u001b[0m \u001b[0mmethod\u001b[0m\u001b[0;34m)\u001b[0m\u001b[0;34m(\u001b[0m\u001b[0;34m*\u001b[0m\u001b[0margs\u001b[0m\u001b[0;34m,\u001b[0m \u001b[0;34m**\u001b[0m\u001b[0mkwds\u001b[0m\u001b[0;34m)\u001b[0m\u001b[0;34m\u001b[0m\u001b[0m\n\u001b[0m\u001b[1;32m     53\u001b[0m \u001b[0;34m\u001b[0m\u001b[0m\n\u001b[1;32m     54\u001b[0m     \u001b[0;31m# An AttributeError occurs if the object does not have\u001b[0m\u001b[0;34m\u001b[0m\u001b[0;34m\u001b[0m\u001b[0m\n",
        "\u001b[0;31mValueError\u001b[0m: cannot reshape array of size 6578 into shape (13,1)"
       ]
      }
     ],
     "prompt_number": 12
    }
   ],
   "metadata": {}
  }
 ]
}